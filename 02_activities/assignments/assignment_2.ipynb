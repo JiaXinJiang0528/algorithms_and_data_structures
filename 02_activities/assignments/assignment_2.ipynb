{
 "cells": [
  {
   "cell_type": "markdown",
   "metadata": {},
   "source": [
    "# Practice Interview\n",
    "\n",
    "## Objective\n",
    "\n",
    "_*The partner assignment aims to provide participants with the opportunity to practice coding in an interview context. You will analyze your partner's Assignment 1. Moreover, code reviews are common practice in a software development team. This assignment should give you a taste of the code review process.*_\n",
    "\n",
    "## Group Size\n",
    "\n",
    "Each group should have 2 people. You will be assigned a partner\n",
    "\n",
    "## Part 1:\n",
    "\n",
    "You and your partner must share each other's Assignment 1 submission."
   ]
  },
  {
   "cell_type": "markdown",
   "metadata": {},
   "source": [
    "\n",
    "## Part 2:\n",
    "\n",
    "Create a Jupyter Notebook, create 6 of the following headings, and complete the following for your partner's assignment 1:\n",
    "\n",
    "-   Paraphrase the problem in your own words.\n"
   ]
  },
  {
   "cell_type": "code",
   "execution_count": null,
   "metadata": {},
   "outputs": [],
   "source": [
    "# Your answer here\n",
    "# Given a list of integers where the numbers range from 0 to the length of the list (n), \n",
    "# some numbers in this range may be missing. My task is to find and return a list of these missing numbers. \n",
    "# If there is no missing number, return -1. Note the list may contain duplicate numbers. "
   ]
  },
  {
   "cell_type": "markdown",
   "metadata": {},
   "source": [
    "\n",
    "-   Create 1 new example that demonstrates you understand the problem. Trace/walkthrough 1 example that your partner made and explain it.\n"
   ]
  },
  {
   "cell_type": "code",
   "execution_count": null,
   "metadata": {},
   "outputs": [],
   "source": [
    "# Your answer here \n",
    "\n",
    "# NEW EXAMPLE \n",
    "Input: lst = [4, 1, 0, 2, 2]\n",
    "\n",
    "Output: [3]\n",
    "\n",
    "\n",
    "\n",
    "# WALKTHROUGH OF PARTNER'S EXAMPLE #4 \n",
    "# Input: `lst = [3, 0, 1, 2]`\n",
    "# Output: -1\n",
    "# The provided list contains all numbers within the expected range of its length [0,1,2,3], there is \n",
    "# no missing number, thus leading to an output of '-1'\n"
   ]
  },
  {
   "cell_type": "markdown",
   "metadata": {},
   "source": [
    "\n",
    "-   Copy the solution your partner wrote. \n"
   ]
  },
  {
   "cell_type": "code",
   "execution_count": 1,
   "metadata": {},
   "outputs": [],
   "source": [
    "# Your answer here\n",
    "\n",
    "def missing_num(nums) -> int: #nums is a list\n",
    "  # TODO\n",
    "  n = max(nums)\n",
    "  complete_set = set(range(n + 1))\n",
    "  given_set = set(nums)\n",
    "  missing_numbers = list(complete_set - given_set)\n",
    "    \n",
    "  if not missing_numbers:\n",
    "    return -1\n",
    "    \n",
    "  return sorted(missing_numbers)"
   ]
  },
  {
   "cell_type": "markdown",
   "metadata": {},
   "source": [
    "\n",
    "-   Explain why their solution works in your own words.\n"
   ]
  },
  {
   "cell_type": "code",
   "execution_count": null,
   "metadata": {},
   "outputs": [],
   "source": [
    "# Your answer here\n",
    "# The code finds the maximum value to the set range. \n",
    "# Convert the list to a set and identiy which number in the range are missing. \n",
    "# Then constructs and returns a list of missing numbers. \n",
    "# If no numbers are missing, return -1. "
   ]
  },
  {
   "cell_type": "markdown",
   "metadata": {},
   "source": [
    "\n",
    "-   Explain the problem’s time and space complexity in your own words.\n"
   ]
  },
  {
   "cell_type": "code",
   "execution_count": null,
   "metadata": {},
   "outputs": [],
   "source": [
    "# Your answer here\n",
    "# Time complexity\n",
    "# The time complexity is O(n), where n is the number of elements in the input list. \n",
    "# Converting the list to a set and checking membership both take O(n) time, iteration also takes O(n). \n",
    "\n",
    "# Space complexity\n",
    "# The space complexity is O(n), n is the number of elements in the input list\n",
    "# This is due to the space needed to store the set and the list of missing numbers. "
   ]
  },
  {
   "cell_type": "markdown",
   "metadata": {},
   "source": [
    "\n",
    "-   Critique your partner's solution, including explanation, and if there is anything that should be adjusted.\n"
   ]
  },
  {
   "cell_type": "code",
   "execution_count": null,
   "metadata": {},
   "outputs": [],
   "source": [
    "# Your answer here\n",
    "# The code efficiently solves the problem by leveraging the properties of sets for quick memebership testing, \n",
    "# which is a great approach to handle potentially large lists. \n",
    "\n",
    "# Consider defining the range based on length o the list rather than maximum value. \n",
    "# This ensures the solution accurately reflects expected range [0,n] and avoids issues if the maximum value in the list is unusually large. "
   ]
  },
  {
   "cell_type": "markdown",
   "metadata": {},
   "source": [
    "\n",
    "## Part 3:\n",
    "\n",
    "Please write a 200 word reflection documenting your process from assignment 1, and your presentation and review experience with your partner at the bottom of the Jupyter Notebook under a new heading \"Reflection.\" Again, export this Notebook as pdf.\n"
   ]
  },
  {
   "cell_type": "markdown",
   "metadata": {},
   "source": [
    "### Reflection"
   ]
  },
  {
   "cell_type": "code",
   "execution_count": null,
   "metadata": {},
   "outputs": [],
   "source": [
    "# Your answer here\n",
    "\n",
    "# Reflecting on my process with Question 2 and the review of the missing numbers problem. I’ve gained valuable insights into both problem-solving and code evaluation. \n",
    "# Working through Question 2,  which involved finding all root-to-leaf paths in a binary tree, helped me understand recursive and iterative approaches. \n",
    "# I realized the importance of clearly defining the problem and ensuring that the code effectively addresses edge cases and handles data efficiently.\n",
    "\n",
    "#In reviewing the solution for finding missing numbers, I appreciated the efficient use of sets for quick membership tests and the straightforward logic used to identify missing values. \n",
    "#The original code was effective but could benefit from defining the range based on the list length rather than the maximum value, ensuring accuracy regardless of list values.\n",
    "#The critique highlighted the need for flexibility in problem constraints and the importance of aligning the solution with the problem's intent.\n",
    "\n",
    "#Overall, these experiences reinforced the significance of clear problem definitions, efficient algorithm design, and thorough testing. \n",
    "#They also underscored the value of constructive critique in improving code quality and adaptability, fostering a deeper understanding of both coding and problem-solving strategies.\n",
    "\n"
   ]
  },
  {
   "cell_type": "markdown",
   "metadata": {},
   "source": [
    "\n",
    "## Evaluation Criteria\n",
    "\n",
    "We are looking for the similar points as Assignment 1\n",
    "\n",
    "-   Problem is accurately stated\n",
    "\n",
    "-   New example is correct and easily understandable\n",
    "\n",
    "-   Correctness, time, and space complexity of the coding solution\n",
    "\n",
    "-   Clarity in explaining why the solution works, its time and space complexity\n",
    "\n",
    "-   Quality of critique of your partner's assignment, if necessary\n"
   ]
  },
  {
   "cell_type": "markdown",
   "metadata": {},
   "source": [
    "## Submission Information\n",
    "\n",
    "🚨 **Please review our [Assignment Submission Guide](https://github.com/UofT-DSI/onboarding/blob/main/onboarding_documents/submissions.md)** 🚨 for detailed instructions on how to format, branch, and submit your work. Following these guidelines is crucial for your submissions to be evaluated correctly.\n",
    "\n",
    "### Submission Parameters:\n",
    "* Submission Due Date: `HH:MM AM/PM - DD/MM/YYYY`\n",
    "* The branch name for your repo should be: `assignment-2`\n",
    "* What to submit for this assignment:\n",
    "    * This Jupyter Notebook (assignment_2.ipynb) should be populated and should be the only change in your pull request.\n",
    "* What the pull request link should look like for this assignment: `https://github.com/<your_github_username>/algorithms_and_data_structures/pull/<pr_id>`\n",
    "    * Open a private window in your browser. Copy and paste the link to your pull request into the address bar. Make sure you can see your pull request properly. This helps the technical facilitator and learning support staff review your submission easily.\n",
    "\n",
    "Checklist:\n",
    "- [ ] Created a branch with the correct naming convention.\n",
    "- [ ] Ensured that the repository is public.\n",
    "- [ ] Reviewed the PR description guidelines and adhered to them.\n",
    "- [ ] Verify that the link is accessible in a private browser window.\n",
    "\n",
    "If you encounter any difficulties or have questions, please don't hesitate to reach out to our team via our Slack at `#cohort-3-help`. Our Technical Facilitators and Learning Support staff are here to help you navigate any challenges.\n"
   ]
  }
 ],
 "metadata": {
  "kernelspec": {
   "display_name": "dsi_participant",
   "language": "python",
   "name": "python3"
  },
  "language_info": {
   "codemirror_mode": {
    "name": "ipython",
    "version": 3
   },
   "file_extension": ".py",
   "mimetype": "text/x-python",
   "name": "python",
   "nbconvert_exporter": "python",
   "pygments_lexer": "ipython3",
   "version": "3.9.15"
  }
 },
 "nbformat": 4,
 "nbformat_minor": 2
}
